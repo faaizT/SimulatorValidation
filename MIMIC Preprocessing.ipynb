{
 "cells": [
  {
   "cell_type": "code",
   "execution_count": 1,
   "metadata": {},
   "outputs": [],
   "source": [
    "import pandas as pd\n",
    "from tqdm import tqdm"
   ]
  },
  {
   "cell_type": "code",
   "execution_count": 2,
   "metadata": {},
   "outputs": [],
   "source": [
    "MIMICtable = pd.read_csv(\"/data/localhost/taufiq/export-dir/MIMICtable-1hourly.csv\")\n",
    "MIMICtable['bloc'] = MIMICtable.bloc.astype(int)\n",
    "MIMICtable['icustay_id'] = MIMICtable.icustay_id.astype(int)"
   ]
  },
  {
   "cell_type": "code",
   "execution_count": 3,
   "metadata": {},
   "outputs": [
    {
     "data": {
      "text/html": [
       "<div>\n",
       "<style scoped>\n",
       "    .dataframe tbody tr th:only-of-type {\n",
       "        vertical-align: middle;\n",
       "    }\n",
       "\n",
       "    .dataframe tbody tr th {\n",
       "        vertical-align: top;\n",
       "    }\n",
       "\n",
       "    .dataframe thead th {\n",
       "        text-align: right;\n",
       "    }\n",
       "</style>\n",
       "<table border=\"1\" class=\"dataframe\">\n",
       "  <thead>\n",
       "    <tr style=\"text-align: right;\">\n",
       "      <th></th>\n",
       "      <th>bloc</th>\n",
       "      <th>icustay_id</th>\n",
       "      <th>charttime</th>\n",
       "      <th>gender</th>\n",
       "      <th>age</th>\n",
       "      <th>elixhauser</th>\n",
       "      <th>re_admission</th>\n",
       "      <th>died_in_hosp</th>\n",
       "      <th>died_within_48h_of_out_time</th>\n",
       "      <th>mortality_90d</th>\n",
       "      <th>...</th>\n",
       "      <th>mechvent</th>\n",
       "      <th>Shock_Index</th>\n",
       "      <th>PaO2_FiO2</th>\n",
       "      <th>median_dose_vaso</th>\n",
       "      <th>max_dose_vaso</th>\n",
       "      <th>input_total</th>\n",
       "      <th>input_1hourly</th>\n",
       "      <th>output_total</th>\n",
       "      <th>output_1hourly</th>\n",
       "      <th>cumulated_balance</th>\n",
       "    </tr>\n",
       "  </thead>\n",
       "  <tbody>\n",
       "    <tr>\n",
       "      <th>0</th>\n",
       "      <td>1</td>\n",
       "      <td>3</td>\n",
       "      <td>7.245400e+09</td>\n",
       "      <td>0.0</td>\n",
       "      <td>17639.826435</td>\n",
       "      <td>0.0</td>\n",
       "      <td>0.0</td>\n",
       "      <td>0.0</td>\n",
       "      <td>0.0</td>\n",
       "      <td>1.0</td>\n",
       "      <td>...</td>\n",
       "      <td>0.0</td>\n",
       "      <td>0.663900</td>\n",
       "      <td>599.999991</td>\n",
       "      <td>0.0</td>\n",
       "      <td>0.0</td>\n",
       "      <td>6267.0</td>\n",
       "      <td>0.0</td>\n",
       "      <td>9490.0</td>\n",
       "      <td>4705.0</td>\n",
       "      <td>-3223.0</td>\n",
       "    </tr>\n",
       "    <tr>\n",
       "      <th>1</th>\n",
       "      <td>2</td>\n",
       "      <td>3</td>\n",
       "      <td>7.245403e+09</td>\n",
       "      <td>0.0</td>\n",
       "      <td>17639.826435</td>\n",
       "      <td>0.0</td>\n",
       "      <td>0.0</td>\n",
       "      <td>0.0</td>\n",
       "      <td>0.0</td>\n",
       "      <td>1.0</td>\n",
       "      <td>...</td>\n",
       "      <td>0.0</td>\n",
       "      <td>0.672340</td>\n",
       "      <td>339.999995</td>\n",
       "      <td>0.0</td>\n",
       "      <td>0.0</td>\n",
       "      <td>6277.0</td>\n",
       "      <td>10.0</td>\n",
       "      <td>14095.0</td>\n",
       "      <td>4605.0</td>\n",
       "      <td>-7818.0</td>\n",
       "    </tr>\n",
       "    <tr>\n",
       "      <th>2</th>\n",
       "      <td>3</td>\n",
       "      <td>3</td>\n",
       "      <td>7.245407e+09</td>\n",
       "      <td>0.0</td>\n",
       "      <td>17639.826435</td>\n",
       "      <td>0.0</td>\n",
       "      <td>0.0</td>\n",
       "      <td>0.0</td>\n",
       "      <td>0.0</td>\n",
       "      <td>1.0</td>\n",
       "      <td>...</td>\n",
       "      <td>0.0</td>\n",
       "      <td>0.649789</td>\n",
       "      <td>339.999995</td>\n",
       "      <td>0.0</td>\n",
       "      <td>0.0</td>\n",
       "      <td>6297.0</td>\n",
       "      <td>20.0</td>\n",
       "      <td>18540.0</td>\n",
       "      <td>4445.0</td>\n",
       "      <td>-12243.0</td>\n",
       "    </tr>\n",
       "    <tr>\n",
       "      <th>3</th>\n",
       "      <td>4</td>\n",
       "      <td>3</td>\n",
       "      <td>7.245410e+09</td>\n",
       "      <td>0.0</td>\n",
       "      <td>17639.826435</td>\n",
       "      <td>0.0</td>\n",
       "      <td>0.0</td>\n",
       "      <td>0.0</td>\n",
       "      <td>0.0</td>\n",
       "      <td>1.0</td>\n",
       "      <td>...</td>\n",
       "      <td>0.0</td>\n",
       "      <td>0.634454</td>\n",
       "      <td>339.999995</td>\n",
       "      <td>0.0</td>\n",
       "      <td>0.0</td>\n",
       "      <td>6317.0</td>\n",
       "      <td>20.0</td>\n",
       "      <td>22845.0</td>\n",
       "      <td>4305.0</td>\n",
       "      <td>-16528.0</td>\n",
       "    </tr>\n",
       "    <tr>\n",
       "      <th>4</th>\n",
       "      <td>5</td>\n",
       "      <td>3</td>\n",
       "      <td>7.245414e+09</td>\n",
       "      <td>0.0</td>\n",
       "      <td>17639.826435</td>\n",
       "      <td>0.0</td>\n",
       "      <td>0.0</td>\n",
       "      <td>0.0</td>\n",
       "      <td>0.0</td>\n",
       "      <td>1.0</td>\n",
       "      <td>...</td>\n",
       "      <td>0.0</td>\n",
       "      <td>0.645714</td>\n",
       "      <td>497.499993</td>\n",
       "      <td>0.0</td>\n",
       "      <td>0.0</td>\n",
       "      <td>6337.0</td>\n",
       "      <td>20.0</td>\n",
       "      <td>27050.0</td>\n",
       "      <td>4205.0</td>\n",
       "      <td>-20713.0</td>\n",
       "    </tr>\n",
       "  </tbody>\n",
       "</table>\n",
       "<p>5 rows × 59 columns</p>\n",
       "</div>"
      ],
      "text/plain": [
       "   bloc  icustay_id     charttime  gender           age  elixhauser  \\\n",
       "0     1           3  7.245400e+09     0.0  17639.826435         0.0   \n",
       "1     2           3  7.245403e+09     0.0  17639.826435         0.0   \n",
       "2     3           3  7.245407e+09     0.0  17639.826435         0.0   \n",
       "3     4           3  7.245410e+09     0.0  17639.826435         0.0   \n",
       "4     5           3  7.245414e+09     0.0  17639.826435         0.0   \n",
       "\n",
       "   re_admission  died_in_hosp  died_within_48h_of_out_time  mortality_90d  \\\n",
       "0           0.0           0.0                          0.0            1.0   \n",
       "1           0.0           0.0                          0.0            1.0   \n",
       "2           0.0           0.0                          0.0            1.0   \n",
       "3           0.0           0.0                          0.0            1.0   \n",
       "4           0.0           0.0                          0.0            1.0   \n",
       "\n",
       "   ...  mechvent  Shock_Index   PaO2_FiO2  median_dose_vaso  max_dose_vaso  \\\n",
       "0  ...       0.0     0.663900  599.999991               0.0            0.0   \n",
       "1  ...       0.0     0.672340  339.999995               0.0            0.0   \n",
       "2  ...       0.0     0.649789  339.999995               0.0            0.0   \n",
       "3  ...       0.0     0.634454  339.999995               0.0            0.0   \n",
       "4  ...       0.0     0.645714  497.499993               0.0            0.0   \n",
       "\n",
       "   input_total  input_1hourly  output_total  output_1hourly  cumulated_balance  \n",
       "0       6267.0            0.0        9490.0          4705.0            -3223.0  \n",
       "1       6277.0           10.0       14095.0          4605.0            -7818.0  \n",
       "2       6297.0           20.0       18540.0          4445.0           -12243.0  \n",
       "3       6317.0           20.0       22845.0          4305.0           -16528.0  \n",
       "4       6337.0           20.0       27050.0          4205.0           -20713.0  \n",
       "\n",
       "[5 rows x 59 columns]"
      ]
     },
     "execution_count": 3,
     "metadata": {},
     "output_type": "execute_result"
    }
   ],
   "source": [
    "MIMICtable.head()"
   ]
  },
  {
   "cell_type": "code",
   "execution_count": 4,
   "metadata": {},
   "outputs": [],
   "source": [
    "MIMICtable['Potassium'] = MIMICtable['Potassium']*39.0983\n",
    "MIMICtable['Sodium'] = MIMICtable['Sodium']*22.989769\n",
    "MIMICtable['Chloride'] = MIMICtable['Chloride']*35.45\n",
    "MIMICtable['Glucose'] = MIMICtable['Glucose']*10\n",
    "MIMICtable['Creatinine'] = MIMICtable['Creatinine']*10\n",
    "MIMICtable['Calcium'] = MIMICtable['Calcium']*10\n",
    "MIMICtable['Albumin'] = MIMICtable['Albumin']*10**4\n",
    "MIMICtable['HCO3'] = MIMICtable['HCO3']*61.0168\n",
    "MIMICtable['Arterial_lactate'] = MIMICtable['Arterial_lactate']*90.08\n",
    "MIMICtable['WBC_count'] = MIMICtable['WBC_count']*10**3"
   ]
  },
  {
   "cell_type": "code",
   "execution_count": 5,
   "metadata": {},
   "outputs": [],
   "source": [
    "icustayids = set(MIMICtable['icustay_id'])"
   ]
  },
  {
   "cell_type": "code",
   "execution_count": 6,
   "metadata": {},
   "outputs": [
    {
     "data": {
      "text/plain": [
       "17161"
      ]
     },
     "execution_count": 6,
     "metadata": {},
     "output_type": "execute_result"
    }
   ],
   "source": [
    "len(icustayids)"
   ]
  },
  {
   "cell_type": "code",
   "execution_count": 34,
   "metadata": {},
   "outputs": [],
   "source": [
    "trajectory_length = 5\n",
    "MIMICtable_filtered = MIMICtable[MIMICtable['bloc']<=trajectory_length]"
   ]
  },
  {
   "cell_type": "code",
   "execution_count": 35,
   "metadata": {},
   "outputs": [
    {
     "data": {
      "text/plain": [
       "53852"
      ]
     },
     "execution_count": 35,
     "metadata": {},
     "output_type": "execute_result"
    }
   ],
   "source": [
    "len(MIMICtable_filtered)"
   ]
  },
  {
   "cell_type": "code",
   "execution_count": 36,
   "metadata": {},
   "outputs": [
    {
     "data": {
      "text/plain": [
       "610551"
      ]
     },
     "execution_count": 36,
     "metadata": {},
     "output_type": "execute_result"
    }
   ],
   "source": [
    "len(MIMICtable)"
   ]
  },
  {
   "cell_type": "code",
   "execution_count": 88,
   "metadata": {},
   "outputs": [
    {
     "name": "stderr",
     "output_type": "stream",
     "text": [
      "100%|██████████| 17161/17161 [01:49<00:00, 156.80it/s]\n"
     ]
    }
   ],
   "source": [
    "processed_data = pd.DataFrame()\n",
    "filtered_icustayids = []\n",
    "for icustay_id in tqdm(icustayids):\n",
    "    data = MIMICtable_filtered[MIMICtable_filtered['icustay_id'] == icustay_id]\n",
    "    if len(data) > 0 and set(data['bloc']) == set(range(1,len(data)+1)):\n",
    "        filtered_icustayids.append(icustay_id)\n",
    "        rows = pd.DataFrame([[-1]*len(data.columns)]*(trajectory_length-len(data)), columns=data.columns)\n",
    "        data = data.append(rows, ignore_index=True)\n",
    "        data['icustay_id'] = icustay_id\n",
    "        processed_data = processed_data.append(data, ignore_index=True)"
   ]
  },
  {
   "cell_type": "code",
   "execution_count": 37,
   "metadata": {},
   "outputs": [
    {
     "name": "stderr",
     "output_type": "stream",
     "text": [
      "100%|██████████| 17161/17161 [00:30<00:00, 561.67it/s]\n"
     ]
    }
   ],
   "source": [
    "# Only extract trajectories of length two\n",
    "processed_data = pd.DataFrame()\n",
    "filtered_icustayids = []\n",
    "for icustay_id in tqdm(icustayids):\n",
    "    data = MIMICtable_filtered[MIMICtable_filtered['icustay_id'] == icustay_id]\n",
    "    if len(data) > 0 and set(data['bloc']) == set(range(1,trajectory_length+1)):\n",
    "        filtered_icustayids.append(icustay_id)\n",
    "        processed_data = processed_data.append(data, ignore_index=True)"
   ]
  },
  {
   "cell_type": "code",
   "execution_count": 38,
   "metadata": {},
   "outputs": [
    {
     "data": {
      "text/plain": [
       "6177.0"
      ]
     },
     "execution_count": 38,
     "metadata": {},
     "output_type": "execute_result"
    }
   ],
   "source": [
    "len(processed_data)/5"
   ]
  },
  {
   "cell_type": "code",
   "execution_count": 21,
   "metadata": {},
   "outputs": [],
   "source": [
    "processed_data.head()\n",
    "processed_data['input_total'] = processed_data['input_total'] - processed_data['input_1hourly']"
   ]
  },
  {
   "cell_type": "code",
   "execution_count": 22,
   "metadata": {},
   "outputs": [],
   "source": [
    "processed_data.to_csv(f\"/data/localhost/taufiq/export-dir/MIMIC-1hourly-length-{trajectory_length}.csv\", index=False)"
   ]
  },
  {
   "cell_type": "code",
   "execution_count": 2,
   "metadata": {},
   "outputs": [],
   "source": [
    "processed_data = pd.read_csv(\"/data/localhost/taufiq/export-dir/MIMIC-1hourly-length-2.csv\")"
   ]
  },
  {
   "cell_type": "code",
   "execution_count": 3,
   "metadata": {},
   "outputs": [
    {
     "data": {
      "text/html": [
       "<div>\n",
       "<style scoped>\n",
       "    .dataframe tbody tr th:only-of-type {\n",
       "        vertical-align: middle;\n",
       "    }\n",
       "\n",
       "    .dataframe tbody tr th {\n",
       "        vertical-align: top;\n",
       "    }\n",
       "\n",
       "    .dataframe thead th {\n",
       "        text-align: right;\n",
       "    }\n",
       "</style>\n",
       "<table border=\"1\" class=\"dataframe\">\n",
       "  <thead>\n",
       "    <tr style=\"text-align: right;\">\n",
       "      <th></th>\n",
       "      <th>bloc</th>\n",
       "      <th>icustay_id</th>\n",
       "      <th>charttime</th>\n",
       "      <th>gender</th>\n",
       "      <th>age</th>\n",
       "      <th>elixhauser</th>\n",
       "      <th>re_admission</th>\n",
       "      <th>died_in_hosp</th>\n",
       "      <th>died_within_48h_of_out_time</th>\n",
       "      <th>mortality_90d</th>\n",
       "      <th>...</th>\n",
       "      <th>mechvent</th>\n",
       "      <th>Shock_Index</th>\n",
       "      <th>PaO2_FiO2</th>\n",
       "      <th>median_dose_vaso</th>\n",
       "      <th>max_dose_vaso</th>\n",
       "      <th>input_total</th>\n",
       "      <th>input_1hourly</th>\n",
       "      <th>output_total</th>\n",
       "      <th>output_1hourly</th>\n",
       "      <th>cumulated_balance</th>\n",
       "    </tr>\n",
       "  </thead>\n",
       "  <tbody>\n",
       "    <tr>\n",
       "      <th>0</th>\n",
       "      <td>1</td>\n",
       "      <td>65537</td>\n",
       "      <td>7.139723e+09</td>\n",
       "      <td>0.0</td>\n",
       "      <td>22799.404780</td>\n",
       "      <td>4.0</td>\n",
       "      <td>1.0</td>\n",
       "      <td>0.0</td>\n",
       "      <td>0.0</td>\n",
       "      <td>0.0</td>\n",
       "      <td>...</td>\n",
       "      <td>0.0</td>\n",
       "      <td>0.687500</td>\n",
       "      <td>363.888889</td>\n",
       "      <td>0.18</td>\n",
       "      <td>0.18</td>\n",
       "      <td>4020.493550</td>\n",
       "      <td>29.994183</td>\n",
       "      <td>7235.0</td>\n",
       "      <td>3605.0</td>\n",
       "      <td>-3184.512267</td>\n",
       "    </tr>\n",
       "    <tr>\n",
       "      <th>1</th>\n",
       "      <td>2</td>\n",
       "      <td>65537</td>\n",
       "      <td>7.139727e+09</td>\n",
       "      <td>0.0</td>\n",
       "      <td>22799.404780</td>\n",
       "      <td>4.0</td>\n",
       "      <td>1.0</td>\n",
       "      <td>0.0</td>\n",
       "      <td>0.0</td>\n",
       "      <td>0.0</td>\n",
       "      <td>...</td>\n",
       "      <td>0.0</td>\n",
       "      <td>0.602564</td>\n",
       "      <td>430.555556</td>\n",
       "      <td>0.00</td>\n",
       "      <td>0.00</td>\n",
       "      <td>4050.487733</td>\n",
       "      <td>515.407667</td>\n",
       "      <td>10760.0</td>\n",
       "      <td>3525.0</td>\n",
       "      <td>-6194.104600</td>\n",
       "    </tr>\n",
       "    <tr>\n",
       "      <th>2</th>\n",
       "      <td>1</td>\n",
       "      <td>3</td>\n",
       "      <td>7.245400e+09</td>\n",
       "      <td>0.0</td>\n",
       "      <td>17639.826435</td>\n",
       "      <td>0.0</td>\n",
       "      <td>0.0</td>\n",
       "      <td>0.0</td>\n",
       "      <td>0.0</td>\n",
       "      <td>1.0</td>\n",
       "      <td>...</td>\n",
       "      <td>0.0</td>\n",
       "      <td>0.663900</td>\n",
       "      <td>599.999991</td>\n",
       "      <td>0.00</td>\n",
       "      <td>0.00</td>\n",
       "      <td>6267.000000</td>\n",
       "      <td>0.000000</td>\n",
       "      <td>9490.0</td>\n",
       "      <td>4705.0</td>\n",
       "      <td>-3223.000000</td>\n",
       "    </tr>\n",
       "    <tr>\n",
       "      <th>3</th>\n",
       "      <td>2</td>\n",
       "      <td>3</td>\n",
       "      <td>7.245403e+09</td>\n",
       "      <td>0.0</td>\n",
       "      <td>17639.826435</td>\n",
       "      <td>0.0</td>\n",
       "      <td>0.0</td>\n",
       "      <td>0.0</td>\n",
       "      <td>0.0</td>\n",
       "      <td>1.0</td>\n",
       "      <td>...</td>\n",
       "      <td>0.0</td>\n",
       "      <td>0.672340</td>\n",
       "      <td>339.999995</td>\n",
       "      <td>0.00</td>\n",
       "      <td>0.00</td>\n",
       "      <td>6267.000000</td>\n",
       "      <td>10.000000</td>\n",
       "      <td>14095.0</td>\n",
       "      <td>4605.0</td>\n",
       "      <td>-7818.000000</td>\n",
       "    </tr>\n",
       "    <tr>\n",
       "      <th>4</th>\n",
       "      <td>1</td>\n",
       "      <td>65544</td>\n",
       "      <td>7.056917e+09</td>\n",
       "      <td>0.0</td>\n",
       "      <td>24000.436400</td>\n",
       "      <td>3.0</td>\n",
       "      <td>0.0</td>\n",
       "      <td>0.0</td>\n",
       "      <td>0.0</td>\n",
       "      <td>0.0</td>\n",
       "      <td>...</td>\n",
       "      <td>0.0</td>\n",
       "      <td>0.770925</td>\n",
       "      <td>938.636364</td>\n",
       "      <td>0.00</td>\n",
       "      <td>0.00</td>\n",
       "      <td>11332.000000</td>\n",
       "      <td>0.000000</td>\n",
       "      <td>8210.0</td>\n",
       "      <td>4105.0</td>\n",
       "      <td>3122.000000</td>\n",
       "    </tr>\n",
       "  </tbody>\n",
       "</table>\n",
       "<p>5 rows × 59 columns</p>\n",
       "</div>"
      ],
      "text/plain": [
       "   bloc  icustay_id     charttime  gender           age  elixhauser  \\\n",
       "0     1       65537  7.139723e+09     0.0  22799.404780         4.0   \n",
       "1     2       65537  7.139727e+09     0.0  22799.404780         4.0   \n",
       "2     1           3  7.245400e+09     0.0  17639.826435         0.0   \n",
       "3     2           3  7.245403e+09     0.0  17639.826435         0.0   \n",
       "4     1       65544  7.056917e+09     0.0  24000.436400         3.0   \n",
       "\n",
       "   re_admission  died_in_hosp  died_within_48h_of_out_time  mortality_90d  \\\n",
       "0           1.0           0.0                          0.0            0.0   \n",
       "1           1.0           0.0                          0.0            0.0   \n",
       "2           0.0           0.0                          0.0            1.0   \n",
       "3           0.0           0.0                          0.0            1.0   \n",
       "4           0.0           0.0                          0.0            0.0   \n",
       "\n",
       "   ...  mechvent  Shock_Index   PaO2_FiO2  median_dose_vaso  max_dose_vaso  \\\n",
       "0  ...       0.0     0.687500  363.888889              0.18           0.18   \n",
       "1  ...       0.0     0.602564  430.555556              0.00           0.00   \n",
       "2  ...       0.0     0.663900  599.999991              0.00           0.00   \n",
       "3  ...       0.0     0.672340  339.999995              0.00           0.00   \n",
       "4  ...       0.0     0.770925  938.636364              0.00           0.00   \n",
       "\n",
       "    input_total  input_1hourly  output_total  output_1hourly  \\\n",
       "0   4020.493550      29.994183        7235.0          3605.0   \n",
       "1   4050.487733     515.407667       10760.0          3525.0   \n",
       "2   6267.000000       0.000000        9490.0          4705.0   \n",
       "3   6267.000000      10.000000       14095.0          4605.0   \n",
       "4  11332.000000       0.000000        8210.0          4105.0   \n",
       "\n",
       "   cumulated_balance  \n",
       "0       -3184.512267  \n",
       "1       -6194.104600  \n",
       "2       -3223.000000  \n",
       "3       -7818.000000  \n",
       "4        3122.000000  \n",
       "\n",
       "[5 rows x 59 columns]"
      ]
     },
     "execution_count": 3,
     "metadata": {},
     "output_type": "execute_result"
    }
   ],
   "source": [
    "processed_data.head()"
   ]
  },
  {
   "cell_type": "code",
   "execution_count": 25,
   "metadata": {},
   "outputs": [
    {
     "data": {
      "text/plain": [
       "7658"
      ]
     },
     "execution_count": 25,
     "metadata": {},
     "output_type": "execute_result"
    }
   ],
   "source": [
    "len(processed_data['icustay_id'].unique())"
   ]
  },
  {
   "cell_type": "code",
   "execution_count": 16,
   "metadata": {},
   "outputs": [],
   "source": [
    "for i in range(10):\n",
    "    df = processed_data[processed_data['icustay_id'].isin(icustay_ids[i*500:(i+1)*500])]\n",
    "    df.to_csv(f\"/data/localhost/taufiq/export-dir/mimic_{i}.csv\")    "
   ]
  },
  {
   "cell_type": "code",
   "execution_count": 24,
   "metadata": {},
   "outputs": [
    {
     "data": {
      "text/plain": [
       "array([['[36928.80317529273]', '[40.091836279518084]',\n",
       "        '[88.52502333436746]', '[99.49896860438422]',\n",
       "        '[1589.9198382985028]', '[7.412771751036658]',\n",
       "        '[13.14391986400579]', '[6631.969204840578]',\n",
       "        '[48.15046895714232]', '[0.028656131445602133]',\n",
       "        '[6.410556671441725]', '[3625.3754376726974]',\n",
       "        '[15.107262053121108]', '[60.96528481903836]',\n",
       "        '[35.27042345512191]', '[968.7235610305044]',\n",
       "        '[81.08108108108104]', '[1012.870044679371]',\n",
       "        '[145.86392274409891]', '[88.08541959803438]',\n",
       "        '[0.973384739461396]', '[156.3102075775469]',\n",
       "        '[13.953488372093007]', '[4.635141848714709]', '[0.0]',\n",
       "        '[33.151252430882664]', '[3325.494997872783]',\n",
       "        '[112.48288392824978]', '[7000.0]', 65537.0, 7139723400.0],\n",
       "       ['[36223.955309102144]', '[40.18593999701211]',\n",
       "        '[89.83130750633676]', '[109.39997626377314]',\n",
       "        '[1590.719916080686]', '[7.411844989915091]',\n",
       "        '[15.264951068967534]', '[6747.208441124192]',\n",
       "        '[52.53607264113476]', '[0.028456494664679234]',\n",
       "        '[6.296535938254421]', '[3523.8875460123513]',\n",
       "        '[14.051150564348125]', '[76.48968584885296]',\n",
       "        '[35.437404084967994]', '[1570.5413014418157]',\n",
       "        '[107.14285714285711]', '[1012.8504803283279]',\n",
       "        '[138.9895380500923]', '[97.33523988711957]',\n",
       "        '[0.9730362776614907]', '[153.42533526205696]',\n",
       "        '[14.285714285714276]', '[4.633363186143905]',\n",
       "        '[3599.999999997016]', '[32.22381987125624]',\n",
       "        '[3315.669231821302]', '[116.99565325218366]', '[7000.0]',\n",
       "        65537.0, 7139727000.0]], dtype=object)"
      ]
     },
     "execution_count": 24,
     "metadata": {},
     "output_type": "execute_result"
    }
   ],
   "source": [
    "df = pd.read_csv(\"/data/localhost/taufiq/export-dir/simulation_65537_final_1621092232.csv\")\n",
    "df.values "
   ]
  },
  {
   "cell_type": "code",
   "execution_count": null,
   "metadata": {},
   "outputs": [],
   "source": []
  }
 ],
 "metadata": {
  "kernelspec": {
   "display_name": ".venv",
   "language": "python",
   "name": ".venv"
  },
  "language_info": {
   "codemirror_mode": {
    "name": "ipython",
    "version": 3
   },
   "file_extension": ".py",
   "mimetype": "text/x-python",
   "name": "python",
   "nbconvert_exporter": "python",
   "pygments_lexer": "ipython3",
   "version": "3.8.9"
  }
 },
 "nbformat": 4,
 "nbformat_minor": 4
}
