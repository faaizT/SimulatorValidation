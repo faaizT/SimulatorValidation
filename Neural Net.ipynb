{
 "cells": [
  {
   "cell_type": "markdown",
   "metadata": {},
   "source": [
    "# Supervised Learning of Actions - Neural Network\n",
    "We fit a Neural Net to the Sepsis data in this note"
   ]
  },
  {
   "cell_type": "code",
   "execution_count": 30,
   "metadata": {},
   "outputs": [],
   "source": [
    "import pandas as pd\n",
    "import numpy as np\n",
    "from tqdm import tqdm\n",
    "exportdir='/data/localhost/taufiq/export-dir/'"
   ]
  },
  {
   "cell_type": "code",
   "execution_count": 2,
   "metadata": {},
   "outputs": [],
   "source": [
    "import logging\n",
    "logging.basicConfig(filename='neural-net.log', level=logging.INFO)"
   ]
  },
  {
   "cell_type": "code",
   "execution_count": 3,
   "metadata": {},
   "outputs": [],
   "source": [
    "nra = 5"
   ]
  },
  {
   "cell_type": "markdown",
   "metadata": {},
   "source": [
    "## Import Data"
   ]
  },
  {
   "cell_type": "code",
   "execution_count": 50,
   "metadata": {},
   "outputs": [
    {
     "data": {
      "text/html": [
       "<div>\n",
       "<style scoped>\n",
       "    .dataframe tbody tr th:only-of-type {\n",
       "        vertical-align: middle;\n",
       "    }\n",
       "\n",
       "    .dataframe tbody tr th {\n",
       "        vertical-align: top;\n",
       "    }\n",
       "\n",
       "    .dataframe thead th {\n",
       "        text-align: right;\n",
       "    }\n",
       "</style>\n",
       "<table border=\"1\" class=\"dataframe\">\n",
       "  <thead>\n",
       "    <tr style=\"text-align: right;\">\n",
       "      <th></th>\n",
       "      <th>gender</th>\n",
       "      <th>mechvent</th>\n",
       "      <th>re_admission</th>\n",
       "      <th>age</th>\n",
       "      <th>Weight_kg</th>\n",
       "      <th>GCS</th>\n",
       "      <th>HR</th>\n",
       "      <th>SysBP</th>\n",
       "      <th>MeanBP</th>\n",
       "      <th>DiaBP</th>\n",
       "      <th>...</th>\n",
       "      <th>Creatinine</th>\n",
       "      <th>SGOT</th>\n",
       "      <th>SGPT</th>\n",
       "      <th>Total_bili</th>\n",
       "      <th>INR</th>\n",
       "      <th>output_total</th>\n",
       "      <th>output_1hourly</th>\n",
       "      <th>last_input</th>\n",
       "      <th>total_input_before</th>\n",
       "      <th>last_vaso_dose</th>\n",
       "    </tr>\n",
       "  </thead>\n",
       "  <tbody>\n",
       "    <tr>\n",
       "      <th>0</th>\n",
       "      <td>-0.5</td>\n",
       "      <td>-0.5</td>\n",
       "      <td>0.5</td>\n",
       "      <td>-0.188164</td>\n",
       "      <td>0.977001</td>\n",
       "      <td>0.373302</td>\n",
       "      <td>-0.575778</td>\n",
       "      <td>-0.480229</td>\n",
       "      <td>0.084172</td>\n",
       "      <td>-0.029420</td>\n",
       "      <td>...</td>\n",
       "      <td>-0.258526</td>\n",
       "      <td>4.799837</td>\n",
       "      <td>5.034709</td>\n",
       "      <td>2.516924</td>\n",
       "      <td>-0.692710</td>\n",
       "      <td>0.248210</td>\n",
       "      <td>0.323737</td>\n",
       "      <td>-0.466274</td>\n",
       "      <td>-0.713778</td>\n",
       "      <td>-0.50</td>\n",
       "    </tr>\n",
       "    <tr>\n",
       "      <th>1</th>\n",
       "      <td>-0.5</td>\n",
       "      <td>-0.5</td>\n",
       "      <td>0.5</td>\n",
       "      <td>-0.188164</td>\n",
       "      <td>0.645357</td>\n",
       "      <td>0.673538</td>\n",
       "      <td>-0.934044</td>\n",
       "      <td>-0.255514</td>\n",
       "      <td>-0.047822</td>\n",
       "      <td>0.309388</td>\n",
       "      <td>...</td>\n",
       "      <td>-1.255075</td>\n",
       "      <td>-1.151380</td>\n",
       "      <td>-0.792918</td>\n",
       "      <td>-0.711890</td>\n",
       "      <td>0.538002</td>\n",
       "      <td>0.380034</td>\n",
       "      <td>0.315833</td>\n",
       "      <td>1.833942</td>\n",
       "      <td>1.404393</td>\n",
       "      <td>-0.32</td>\n",
       "    </tr>\n",
       "    <tr>\n",
       "      <th>2</th>\n",
       "      <td>-0.5</td>\n",
       "      <td>-0.5</td>\n",
       "      <td>-0.5</td>\n",
       "      <td>-1.051718</td>\n",
       "      <td>-0.629896</td>\n",
       "      <td>-0.827640</td>\n",
       "      <td>-0.410425</td>\n",
       "      <td>-0.098214</td>\n",
       "      <td>0.249165</td>\n",
       "      <td>0.444911</td>\n",
       "      <td>...</td>\n",
       "      <td>0.592298</td>\n",
       "      <td>0.646722</td>\n",
       "      <td>0.730208</td>\n",
       "      <td>1.169624</td>\n",
       "      <td>0.160168</td>\n",
       "      <td>0.338320</td>\n",
       "      <td>0.417525</td>\n",
       "      <td>-0.466274</td>\n",
       "      <td>-0.713778</td>\n",
       "      <td>-0.50</td>\n",
       "    </tr>\n",
       "    <tr>\n",
       "      <th>3</th>\n",
       "      <td>-0.5</td>\n",
       "      <td>-0.5</td>\n",
       "      <td>-0.5</td>\n",
       "      <td>-1.051718</td>\n",
       "      <td>-0.140325</td>\n",
       "      <td>-0.827640</td>\n",
       "      <td>-0.465543</td>\n",
       "      <td>-0.233043</td>\n",
       "      <td>0.183168</td>\n",
       "      <td>0.377150</td>\n",
       "      <td>...</td>\n",
       "      <td>-0.993943</td>\n",
       "      <td>-0.561408</td>\n",
       "      <td>-0.114526</td>\n",
       "      <td>-0.386553</td>\n",
       "      <td>-0.925742</td>\n",
       "      <td>0.469704</td>\n",
       "      <td>0.409959</td>\n",
       "      <td>-0.466274</td>\n",
       "      <td>1.493079</td>\n",
       "      <td>-0.50</td>\n",
       "    </tr>\n",
       "    <tr>\n",
       "      <th>4</th>\n",
       "      <td>-0.5</td>\n",
       "      <td>-0.5</td>\n",
       "      <td>-0.5</td>\n",
       "      <td>0.012852</td>\n",
       "      <td>-0.329836</td>\n",
       "      <td>0.673538</td>\n",
       "      <td>0.002959</td>\n",
       "      <td>-0.412815</td>\n",
       "      <td>-0.608798</td>\n",
       "      <td>-0.673156</td>\n",
       "      <td>...</td>\n",
       "      <td>-0.993943</td>\n",
       "      <td>-0.149953</td>\n",
       "      <td>-0.300658</td>\n",
       "      <td>-1.205811</td>\n",
       "      <td>0.538002</td>\n",
       "      <td>0.290199</td>\n",
       "      <td>0.369480</td>\n",
       "      <td>-0.466274</td>\n",
       "      <td>-0.713778</td>\n",
       "      <td>-0.50</td>\n",
       "    </tr>\n",
       "  </tbody>\n",
       "</table>\n",
       "<p>5 rows × 47 columns</p>\n",
       "</div>"
      ],
      "text/plain": [
       "   gender  mechvent  re_admission       age  Weight_kg       GCS        HR  \\\n",
       "0    -0.5      -0.5           0.5 -0.188164   0.977001  0.373302 -0.575778   \n",
       "1    -0.5      -0.5           0.5 -0.188164   0.645357  0.673538 -0.934044   \n",
       "2    -0.5      -0.5          -0.5 -1.051718  -0.629896 -0.827640 -0.410425   \n",
       "3    -0.5      -0.5          -0.5 -1.051718  -0.140325 -0.827640 -0.465543   \n",
       "4    -0.5      -0.5          -0.5  0.012852  -0.329836  0.673538  0.002959   \n",
       "\n",
       "      SysBP    MeanBP     DiaBP  ...  Creatinine      SGOT      SGPT  \\\n",
       "0 -0.480229  0.084172 -0.029420  ...   -0.258526  4.799837  5.034709   \n",
       "1 -0.255514 -0.047822  0.309388  ...   -1.255075 -1.151380 -0.792918   \n",
       "2 -0.098214  0.249165  0.444911  ...    0.592298  0.646722  0.730208   \n",
       "3 -0.233043  0.183168  0.377150  ...   -0.993943 -0.561408 -0.114526   \n",
       "4 -0.412815 -0.608798 -0.673156  ...   -0.993943 -0.149953 -0.300658   \n",
       "\n",
       "   Total_bili       INR  output_total  output_1hourly  last_input  \\\n",
       "0    2.516924 -0.692710      0.248210        0.323737   -0.466274   \n",
       "1   -0.711890  0.538002      0.380034        0.315833    1.833942   \n",
       "2    1.169624  0.160168      0.338320        0.417525   -0.466274   \n",
       "3   -0.386553 -0.925742      0.469704        0.409959   -0.466274   \n",
       "4   -1.205811  0.538002      0.290199        0.369480   -0.466274   \n",
       "\n",
       "   total_input_before  last_vaso_dose  \n",
       "0           -0.713778           -0.50  \n",
       "1            1.404393           -0.32  \n",
       "2           -0.713778           -0.50  \n",
       "3            1.493079           -0.50  \n",
       "4           -0.713778           -0.50  \n",
       "\n",
       "[5 rows x 47 columns]"
      ]
     },
     "execution_count": 50,
     "metadata": {},
     "output_type": "execute_result"
    }
   ],
   "source": [
    "MIMICraw = pd.read_csv(exportdir + 'MIMICraw-logistic_reg-1hourly.csv')\n",
    "MIMICraw.head()"
   ]
  },
  {
   "cell_type": "code",
   "execution_count": 5,
   "metadata": {},
   "outputs": [
    {
     "data": {
      "text/html": [
       "<div>\n",
       "<style scoped>\n",
       "    .dataframe tbody tr th:only-of-type {\n",
       "        vertical-align: middle;\n",
       "    }\n",
       "\n",
       "    .dataframe tbody tr th {\n",
       "        vertical-align: top;\n",
       "    }\n",
       "\n",
       "    .dataframe thead th {\n",
       "        text-align: right;\n",
       "    }\n",
       "</style>\n",
       "<table border=\"1\" class=\"dataframe\">\n",
       "  <thead>\n",
       "    <tr style=\"text-align: right;\">\n",
       "      <th></th>\n",
       "      <th>bloc</th>\n",
       "      <th>icustay_id</th>\n",
       "      <th>charttime</th>\n",
       "      <th>gender</th>\n",
       "      <th>age</th>\n",
       "      <th>elixhauser</th>\n",
       "      <th>re_admission</th>\n",
       "      <th>died_in_hosp</th>\n",
       "      <th>died_within_48h_of_out_time</th>\n",
       "      <th>mortality_90d</th>\n",
       "      <th>...</th>\n",
       "      <th>mechvent</th>\n",
       "      <th>Shock_Index</th>\n",
       "      <th>PaO2_FiO2</th>\n",
       "      <th>median_dose_vaso</th>\n",
       "      <th>max_dose_vaso</th>\n",
       "      <th>input_total</th>\n",
       "      <th>input_1hourly</th>\n",
       "      <th>output_total</th>\n",
       "      <th>output_1hourly</th>\n",
       "      <th>cumulated_balance</th>\n",
       "    </tr>\n",
       "  </thead>\n",
       "  <tbody>\n",
       "    <tr>\n",
       "      <th>0</th>\n",
       "      <td>1</td>\n",
       "      <td>65537</td>\n",
       "      <td>7.139723e+09</td>\n",
       "      <td>0.0</td>\n",
       "      <td>22799.404780</td>\n",
       "      <td>4.0</td>\n",
       "      <td>1.0</td>\n",
       "      <td>0.0</td>\n",
       "      <td>0.0</td>\n",
       "      <td>0.0</td>\n",
       "      <td>...</td>\n",
       "      <td>0.0</td>\n",
       "      <td>0.687500</td>\n",
       "      <td>363.888889</td>\n",
       "      <td>0.18</td>\n",
       "      <td>0.18</td>\n",
       "      <td>4020.493550</td>\n",
       "      <td>29.994183</td>\n",
       "      <td>7235.0</td>\n",
       "      <td>3605.0</td>\n",
       "      <td>-3184.512267</td>\n",
       "    </tr>\n",
       "    <tr>\n",
       "      <th>1</th>\n",
       "      <td>2</td>\n",
       "      <td>65537</td>\n",
       "      <td>7.139727e+09</td>\n",
       "      <td>0.0</td>\n",
       "      <td>22799.404780</td>\n",
       "      <td>4.0</td>\n",
       "      <td>1.0</td>\n",
       "      <td>0.0</td>\n",
       "      <td>0.0</td>\n",
       "      <td>0.0</td>\n",
       "      <td>...</td>\n",
       "      <td>0.0</td>\n",
       "      <td>0.602564</td>\n",
       "      <td>430.555556</td>\n",
       "      <td>0.00</td>\n",
       "      <td>0.00</td>\n",
       "      <td>4050.487733</td>\n",
       "      <td>515.407667</td>\n",
       "      <td>10760.0</td>\n",
       "      <td>3525.0</td>\n",
       "      <td>-6194.104600</td>\n",
       "    </tr>\n",
       "    <tr>\n",
       "      <th>2</th>\n",
       "      <td>1</td>\n",
       "      <td>3</td>\n",
       "      <td>7.245400e+09</td>\n",
       "      <td>0.0</td>\n",
       "      <td>17639.826435</td>\n",
       "      <td>0.0</td>\n",
       "      <td>0.0</td>\n",
       "      <td>0.0</td>\n",
       "      <td>0.0</td>\n",
       "      <td>1.0</td>\n",
       "      <td>...</td>\n",
       "      <td>0.0</td>\n",
       "      <td>0.663900</td>\n",
       "      <td>599.999991</td>\n",
       "      <td>0.00</td>\n",
       "      <td>0.00</td>\n",
       "      <td>6267.000000</td>\n",
       "      <td>0.000000</td>\n",
       "      <td>9490.0</td>\n",
       "      <td>4705.0</td>\n",
       "      <td>-3223.000000</td>\n",
       "    </tr>\n",
       "    <tr>\n",
       "      <th>3</th>\n",
       "      <td>2</td>\n",
       "      <td>3</td>\n",
       "      <td>7.245403e+09</td>\n",
       "      <td>0.0</td>\n",
       "      <td>17639.826435</td>\n",
       "      <td>0.0</td>\n",
       "      <td>0.0</td>\n",
       "      <td>0.0</td>\n",
       "      <td>0.0</td>\n",
       "      <td>1.0</td>\n",
       "      <td>...</td>\n",
       "      <td>0.0</td>\n",
       "      <td>0.672340</td>\n",
       "      <td>339.999995</td>\n",
       "      <td>0.00</td>\n",
       "      <td>0.00</td>\n",
       "      <td>6267.000000</td>\n",
       "      <td>10.000000</td>\n",
       "      <td>14095.0</td>\n",
       "      <td>4605.0</td>\n",
       "      <td>-7818.000000</td>\n",
       "    </tr>\n",
       "    <tr>\n",
       "      <th>4</th>\n",
       "      <td>1</td>\n",
       "      <td>65544</td>\n",
       "      <td>7.056917e+09</td>\n",
       "      <td>0.0</td>\n",
       "      <td>24000.436400</td>\n",
       "      <td>3.0</td>\n",
       "      <td>0.0</td>\n",
       "      <td>0.0</td>\n",
       "      <td>0.0</td>\n",
       "      <td>0.0</td>\n",
       "      <td>...</td>\n",
       "      <td>0.0</td>\n",
       "      <td>0.770925</td>\n",
       "      <td>938.636364</td>\n",
       "      <td>0.00</td>\n",
       "      <td>0.00</td>\n",
       "      <td>11332.000000</td>\n",
       "      <td>0.000000</td>\n",
       "      <td>8210.0</td>\n",
       "      <td>4105.0</td>\n",
       "      <td>3122.000000</td>\n",
       "    </tr>\n",
       "  </tbody>\n",
       "</table>\n",
       "<p>5 rows × 59 columns</p>\n",
       "</div>"
      ],
      "text/plain": [
       "   bloc  icustay_id     charttime  gender           age  elixhauser  \\\n",
       "0     1       65537  7.139723e+09     0.0  22799.404780         4.0   \n",
       "1     2       65537  7.139727e+09     0.0  22799.404780         4.0   \n",
       "2     1           3  7.245400e+09     0.0  17639.826435         0.0   \n",
       "3     2           3  7.245403e+09     0.0  17639.826435         0.0   \n",
       "4     1       65544  7.056917e+09     0.0  24000.436400         3.0   \n",
       "\n",
       "   re_admission  died_in_hosp  died_within_48h_of_out_time  mortality_90d  \\\n",
       "0           1.0           0.0                          0.0            0.0   \n",
       "1           1.0           0.0                          0.0            0.0   \n",
       "2           0.0           0.0                          0.0            1.0   \n",
       "3           0.0           0.0                          0.0            1.0   \n",
       "4           0.0           0.0                          0.0            0.0   \n",
       "\n",
       "   ...  mechvent  Shock_Index   PaO2_FiO2  median_dose_vaso  max_dose_vaso  \\\n",
       "0  ...       0.0     0.687500  363.888889              0.18           0.18   \n",
       "1  ...       0.0     0.602564  430.555556              0.00           0.00   \n",
       "2  ...       0.0     0.663900  599.999991              0.00           0.00   \n",
       "3  ...       0.0     0.672340  339.999995              0.00           0.00   \n",
       "4  ...       0.0     0.770925  938.636364              0.00           0.00   \n",
       "\n",
       "    input_total  input_1hourly  output_total  output_1hourly  \\\n",
       "0   4020.493550      29.994183        7235.0          3605.0   \n",
       "1   4050.487733     515.407667       10760.0          3525.0   \n",
       "2   6267.000000       0.000000        9490.0          4705.0   \n",
       "3   6267.000000      10.000000       14095.0          4605.0   \n",
       "4  11332.000000       0.000000        8210.0          4105.0   \n",
       "\n",
       "   cumulated_balance  \n",
       "0       -3184.512267  \n",
       "1       -6194.104600  \n",
       "2       -3223.000000  \n",
       "3       -7818.000000  \n",
       "4        3122.000000  \n",
       "\n",
       "[5 rows x 59 columns]"
      ]
     },
     "execution_count": 5,
     "metadata": {},
     "output_type": "execute_result"
    }
   ],
   "source": [
    "MIMICtable = pd.read_csv(exportdir + 'MIMIC-1hourly-length-2.csv')\n",
    "MIMICtable.head()"
   ]
  },
  {
   "cell_type": "markdown",
   "metadata": {},
   "source": [
    "## Create Actions"
   ]
  },
  {
   "cell_type": "code",
   "execution_count": 6,
   "metadata": {},
   "outputs": [],
   "source": [
    "from sklearn.cluster import KMeans\n",
    "from scipy.stats import rankdata\n",
    "\n",
    "logging.info('Creating action bins')\n",
    "nact = nra**2\n",
    "input_1hourly_nonzero = MIMICtable.loc[MIMICtable['input_1hourly']>0, 'input_1hourly']\n",
    "iol_ranked = rankdata(input_1hourly_nonzero)/len(input_1hourly_nonzero) # excludes zero fluid (will be action 1)\n",
    "iof = np.floor((iol_ranked + 0.2499999999)*4) # converts iv volume in 4 actions\n",
    "io = np.ones(len(MIMICtable)) # array of ones, by default\n",
    "io[MIMICtable['input_1hourly']>0] = iof + 1 # where more than zero fluid given: save actual action\n",
    "vc = MIMICtable['max_dose_vaso'].copy()\n",
    "vc_nonzero = MIMICtable.loc[MIMICtable['max_dose_vaso']!=0, 'max_dose_vaso']\n",
    "vc_ranked = rankdata(vc_nonzero)/len(vc_nonzero)\n",
    "vcf = np.floor((vc_ranked + 0.2499999999)*4) # converts to 4 bins\n",
    "vcf[vcf==0] = 1\n",
    "vc[vc!=0] = vcf + 1\n",
    "vc[vc==0] = 1\n",
    "# median dose of drug in all bins\n",
    "ma1 = [MIMICtable.loc[io==1, 'input_1hourly'].median(), MIMICtable.loc[io==2, 'input_1hourly'].median(), MIMICtable.loc[io==3, 'input_1hourly'].median(), MIMICtable.loc[io==4, 'input_1hourly'].median(), MIMICtable.loc[io==5, 'input_1hourly'].median()]\n",
    "ma2 = [MIMICtable.loc[vc==1, 'max_dose_vaso'].median(), MIMICtable.loc[vc==2, 'max_dose_vaso'].median(), MIMICtable.loc[vc==3, 'max_dose_vaso'].median(), MIMICtable.loc[vc==4, 'max_dose_vaso'].median(), MIMICtable.loc[vc==5, 'max_dose_vaso'].median()]\n",
    "med = pd.DataFrame(data={'IV':io, 'VC': vc})\n",
    "med = med.astype({'IV': 'int32', 'VC': 'int32'})\n",
    "uniqueValues = med.drop_duplicates().reset_index(drop=True)\n",
    "uniqueValueDoses = pd.DataFrame()\n",
    "for index, row in uniqueValues.iterrows():\n",
    "    uniqueValueDoses.at[index, 'IV'], uniqueValueDoses.at[index, 'VC'] = ma1[row['IV']-1], ma2[row['VC']-1]\n",
    "\n",
    "actionbloc = pd.DataFrame()\n",
    "for index, row in med.iterrows():\n",
    "    actionbloc.at[index, 'action_bloc'] = uniqueValues.loc[(uniqueValues['IV'] == row['IV']) & (uniqueValues['VC'] == row['VC'])].index.values[0]\n",
    "actionbloc = actionbloc.astype({'action_bloc':'int32'})\n",
    "\n",
    "logging.info('Action bins created')"
   ]
  },
  {
   "cell_type": "code",
   "execution_count": 18,
   "metadata": {},
   "outputs": [
    {
     "data": {
      "text/html": [
       "<div>\n",
       "<style scoped>\n",
       "    .dataframe tbody tr th:only-of-type {\n",
       "        vertical-align: middle;\n",
       "    }\n",
       "\n",
       "    .dataframe tbody tr th {\n",
       "        vertical-align: top;\n",
       "    }\n",
       "\n",
       "    .dataframe thead th {\n",
       "        text-align: right;\n",
       "    }\n",
       "</style>\n",
       "<table border=\"1\" class=\"dataframe\">\n",
       "  <thead>\n",
       "    <tr style=\"text-align: right;\">\n",
       "      <th></th>\n",
       "      <th>action_bloc</th>\n",
       "    </tr>\n",
       "  </thead>\n",
       "  <tbody>\n",
       "    <tr>\n",
       "      <th>0</th>\n",
       "      <td>0</td>\n",
       "    </tr>\n",
       "    <tr>\n",
       "      <th>1</th>\n",
       "      <td>1</td>\n",
       "    </tr>\n",
       "    <tr>\n",
       "      <th>2</th>\n",
       "      <td>2</td>\n",
       "    </tr>\n",
       "    <tr>\n",
       "      <th>3</th>\n",
       "      <td>3</td>\n",
       "    </tr>\n",
       "    <tr>\n",
       "      <th>4</th>\n",
       "      <td>2</td>\n",
       "    </tr>\n",
       "  </tbody>\n",
       "</table>\n",
       "</div>"
      ],
      "text/plain": [
       "   action_bloc\n",
       "0            0\n",
       "1            1\n",
       "2            2\n",
       "3            3\n",
       "4            2"
      ]
     },
     "execution_count": 18,
     "metadata": {},
     "output_type": "execute_result"
    }
   ],
   "source": [
    "actionbloc.head()"
   ]
  },
  {
   "cell_type": "markdown",
   "metadata": {},
   "source": [
    "## Create Training and Test data"
   ]
  },
  {
   "cell_type": "code",
   "execution_count": 51,
   "metadata": {},
   "outputs": [],
   "source": [
    "icuuniqueids = MIMICtable['icustay_id'].unique()\n",
    "grp = np.floor(5*np.random.rand(len(icuuniqueids))+1)\n",
    "crossval = 1\n",
    "trainidx = icuuniqueids[grp != crossval]\n",
    "testidx = icuuniqueids[grp == crossval]\n",
    "X = MIMICraw.loc[MIMICtable['icustay_id'].isin(trainidx)]\n",
    "Xtestmimic = MIMICraw[MIMICtable['icustay_id'].isin(testidx)]\n",
    "blocs = MIMICtable.loc[MIMICtable['icustay_id'].isin(trainidx), 'bloc']\n",
    "bloctestmimic = MIMICtable.loc[MIMICtable['icustay_id'].isin(testidx), 'bloc']\n",
    "ptid = MIMICtable.loc[MIMICtable['icustay_id'].isin(trainidx), 'icustay_id']\n",
    "ptidtestmimic = MIMICtable.loc[MIMICtable['icustay_id'].isin(testidx), 'icustay_id']\n",
    "Y = actionbloc.loc[MIMICtable['icustay_id'].isin(trainidx), 'action_bloc']\n",
    "Ytest = actionbloc.loc[MIMICtable['icustay_id'].isin(testidx), 'action_bloc']\n"
   ]
  },
  {
   "cell_type": "markdown",
   "metadata": {},
   "source": [
    "## Define the Neural Network Architecture"
   ]
  },
  {
   "cell_type": "code",
   "execution_count": 52,
   "metadata": {},
   "outputs": [],
   "source": [
    "import torch\n",
    "import torchvision\n",
    "import torchvision.transforms as transforms\n",
    "\n",
    "import torch.nn as nn\n",
    "import torch.nn.functional as F\n",
    "import torch.optim as optim\n",
    "\n",
    "class Mnist_Logistic(nn.Module):\n",
    "    def __init__(self, input_dim, output_dim=nact):\n",
    "        super().__init__()\n",
    "        self.lin1 = nn.Linear(input_dim, 60)\n",
    "        self.lin2 = nn.Linear(60, 60)\n",
    "        self.lin3 = nn.Linear(60, 60)\n",
    "        self.lin4 = nn.Linear(60, output_dim)\n",
    "\n",
    "    def forward(self, xb):\n",
    "        xb = F.leaky_relu(self.lin1(xb))\n",
    "        xb = F.leaky_relu(self.lin2(xb))\n",
    "        xb = F.leaky_relu(self.lin3(xb))\n",
    "        xb = F.softmax(self.lin3(xb), dim=1)\n",
    "        return xb\n",
    "    \n",
    "\n",
    "loss_func = F.cross_entropy        "
   ]
  },
  {
   "cell_type": "code",
   "execution_count": 53,
   "metadata": {},
   "outputs": [],
   "source": [
    "def get_model():\n",
    "    global X\n",
    "    model = Mnist_Logistic(input_dim = X.size(1))\n",
    "    return model, optim.SGD(model.parameters(), lr=0.001)"
   ]
  },
  {
   "cell_type": "code",
   "execution_count": 54,
   "metadata": {},
   "outputs": [],
   "source": [
    "X, Y, Xtestmimic, Ytest = map(torch.tensor, (X.values, Y.values, Xtestmimic.values, Ytest.values))"
   ]
  },
  {
   "cell_type": "code",
   "execution_count": 55,
   "metadata": {},
   "outputs": [],
   "source": [
    "from torch.utils.data import DataLoader\n",
    "from torch.utils.data import TensorDataset\n",
    "\n",
    "train_ds = TensorDataset(X, Y)\n",
    "train_dl = DataLoader(train_ds, batch_size=32)\n",
    "\n",
    "test_ds = TensorDataset(Xtestmimic, Ytest)\n",
    "test_dl = DataLoader(test_ds, batch_size=32)\n"
   ]
  },
  {
   "cell_type": "markdown",
   "metadata": {},
   "source": [
    "## Training"
   ]
  },
  {
   "cell_type": "code",
   "execution_count": 56,
   "metadata": {},
   "outputs": [],
   "source": [
    "def accuracy(dataloader):\n",
    "    global model\n",
    "    matches = 0\n",
    "    for xb, yb in dataloader:\n",
    "        _, predicted = torch.max(model(xb.float()), 1)\n",
    "        matches += (predicted == yb).sum()\n",
    "    return (matches.float()/len(dataloader.dataset)).item()"
   ]
  },
  {
   "cell_type": "code",
   "execution_count": 57,
   "metadata": {},
   "outputs": [
    {
     "name": "stderr",
     "output_type": "stream",
     "text": [
      "100%|██████████| 1000/1000 [03:51<00:00,  4.32it/s]"
     ]
    },
    {
     "name": "stdout",
     "output_type": "stream",
     "text": [
      "tensor(3.3953, grad_fn=<NllLossBackward>)\n"
     ]
    },
    {
     "name": "stderr",
     "output_type": "stream",
     "text": [
      "\n"
     ]
    }
   ],
   "source": [
    "model, opt = get_model()\n",
    "test_loss = []\n",
    "test_acc = []\n",
    "train_acc = []\n",
    "logging.info('Starting training')\n",
    "\n",
    "for epoch in tqdm(range(1000)):\n",
    "    logging.info('Epoch: ' + str(epoch))\n",
    "    model.train()\n",
    "    for xb, yb in train_dl:\n",
    "        pred = model(xb.float())\n",
    "        loss = loss_func(pred, yb.long())\n",
    "\n",
    "        loss.backward()\n",
    "        opt.step()\n",
    "        opt.zero_grad()\n",
    "    \n",
    "    model.eval()\n",
    "    with torch.no_grad():\n",
    "        valid_loss = sum(loss_func(model(xb.float()), yb.long()) for xb, yb in test_dl)\n",
    "        test_loss.append(valid_loss)\n",
    "        if epoch % 50 == 0:\n",
    "            test_acc.append(accuracy(test_dl))\n",
    "            train_acc.append(accuracy(train_dl))\n",
    "\n",
    "logging.info('Training finished')\n",
    "print(loss_func(model(xb.float()), yb.long()))"
   ]
  },
  {
   "cell_type": "code",
   "execution_count": 58,
   "metadata": {},
   "outputs": [
    {
     "data": {
      "image/png": "[encoded data removed]",
      "text/plain": [
       "<Figure size 432x288 with 1 Axes>"
      ]
     },
     "metadata": {
      "needs_background": "light"
     },
     "output_type": "display_data"
    }
   ],
   "source": [
    "import matplotlib.pyplot as plt\n",
    "\n",
    "plt.plot(test_loss)\n",
    "plt.xlabel('Epoch')\n",
    "plt.ylabel('Loss')\n",
    "plt.title('Test loss')\n",
    "plt.show()"
   ]
  },
  {
   "cell_type": "code",
   "execution_count": 59,
   "metadata": {},
   "outputs": [
    {
     "data": {
      "image/png": "[encoded data removed]",
      "text/plain": [
       "<Figure size 432x288 with 1 Axes>"
      ]
     },
     "metadata": {
      "needs_background": "light"
     },
     "output_type": "display_data"
    }
   ],
   "source": [
    "plt.plot(range(0,1000,50),test_acc)\n",
    "plt.xlabel('Epoch')\n",
    "plt.ylabel('Accuracy')\n",
    "plt.title('Test accuracy')\n",
    "plt.show()"
   ]
  },
  {
   "cell_type": "code",
   "execution_count": 60,
   "metadata": {},
   "outputs": [
    {
     "data": {
      "image/png": "[encoded data removed]",
      "text/plain": [
       "<Figure size 432x288 with 1 Axes>"
      ]
     },
     "metadata": {
      "needs_background": "light"
     },
     "output_type": "display_data"
    }
   ],
   "source": [
    "plt.plot(range(0,1000,50), train_acc)\n",
    "plt.xlabel('Epoch')\n",
    "plt.ylabel('Accuracy')\n",
    "plt.title('Training accuracy')\n",
    "plt.show()"
   ]
  },
  {
   "cell_type": "markdown",
   "metadata": {},
   "source": [
    "## Neural Net - Architecture 2"
   ]
  },
  {
   "cell_type": "code",
   "execution_count": 87,
   "metadata": {},
   "outputs": [],
   "source": [
    "class Mnist_Logistic2(nn.Module):\n",
    "    def __init__(self):\n",
    "        super().__init__()\n",
    "        self.lin1 = nn.Linear(47, 40)\n",
    "        self.lin2 = nn.Linear(40, nact)\n",
    "\n",
    "    def forward(self, xb):\n",
    "        xb = F.leaky_relu(self.lin1(xb))\n",
    "        xb = F.softmax(self.lin2(xb), dim=1)\n",
    "        return xb"
   ]
  },
  {
   "cell_type": "code",
   "execution_count": 88,
   "metadata": {},
   "outputs": [],
   "source": [
    "def get_model2():\n",
    "    model = Mnist_Logistic2()\n",
    "    return model, optim.SGD(model.parameters(), lr=0.001)"
   ]
  },
  {
   "cell_type": "code",
   "execution_count": 81,
   "metadata": {},
   "outputs": [
    {
     "name": "stdout",
     "output_type": "stream",
     "text": [
      "tensor(2.3901, grad_fn=<NllLossBackward>)\n"
     ]
    }
   ],
   "source": [
    "model, opt = get_model2()\n",
    "test_loss = []\n",
    "test_acc = []\n",
    "train_acc = []\n",
    "logging.info('Starting training - model 2')\n",
    "\n",
    "for epoch in range(1000):\n",
    "    logging.info('Epoch: ' + str(epoch))\n",
    "    model.train()\n",
    "    for xb, yb in train_dl:\n",
    "        pred = model(xb.float())\n",
    "        loss = loss_func(pred, yb.long())\n",
    "\n",
    "        loss.backward()\n",
    "        opt.step()\n",
    "        opt.zero_grad()\n",
    "    \n",
    "    model.eval()\n",
    "    with torch.no_grad():\n",
    "        valid_loss = sum(loss_func(model(xb.float()), yb.long()) for xb, yb in test_dl)\n",
    "        test_loss.append(valid_loss)\n",
    "        if epoch % 50 == 0:\n",
    "            test_acc.append(accuracy(test_dl))\n",
    "            train_acc.append(accuracy(train_dl))\n",
    "\n",
    "logging.info('Training finished')\n",
    "print(loss_func(model(xb.float()), yb.long()))\n"
   ]
  },
  {
   "cell_type": "code",
   "execution_count": 82,
   "metadata": {},
   "outputs": [
    {
     "data": {
      "image/png": "[encoded data removed]",
      "text/plain": [
       "<Figure size 432x288 with 1 Axes>"
      ]
     },
     "metadata": {
      "needs_background": "light"
     },
     "output_type": "display_data"
    }
   ],
   "source": [
    "import matplotlib.pyplot as plt\n",
    "\n",
    "plt.plot(test_loss)\n",
    "plt.xlabel('Epoch')\n",
    "plt.ylabel('Loss')\n",
    "plt.title('Test loss')\n",
    "plt.show()"
   ]
  },
  {
   "cell_type": "code",
   "execution_count": 83,
   "metadata": {},
   "outputs": [
    {
     "data": {
      "image/png": "[encoded data removed]",
      "text/plain": [
       "<Figure size 432x288 with 1 Axes>"
      ]
     },
     "metadata": {
      "needs_background": "light"
     },
     "output_type": "display_data"
    }
   ],
   "source": [
    "plt.plot(range(0,1000,50),test_acc)\n",
    "plt.xlabel('Epoch')\n",
    "plt.ylabel('Accuracy')\n",
    "plt.title('Test accuracy')\n",
    "plt.show()"
   ]
  },
  {
   "cell_type": "code",
   "execution_count": 85,
   "metadata": {},
   "outputs": [
    {
     "data": {
      "image/png": "[encoded data removed]",
      "text/plain": [
       "<Figure size 432x288 with 1 Axes>"
      ]
     },
     "metadata": {
      "needs_background": "light"
     },
     "output_type": "display_data"
    }
   ],
   "source": [
    "plt.plot(range(0,1000,50), train_acc)\n",
    "plt.xlabel('Epoch')\n",
    "plt.ylabel('Accuracy')\n",
    "plt.title('Training accuracy')\n",
    "plt.show()"
   ]
  },
  {
   "cell_type": "markdown",
   "metadata": {},
   "source": [
    "## Neural Net - Architecture 3"
   ]
  },
  {
   "cell_type": "code",
   "execution_count": 86,
   "metadata": {},
   "outputs": [],
   "source": [
    "class Mnist_Logistic3(nn.Module):\n",
    "    def __init__(self):\n",
    "        super().__init__()\n",
    "        self.lin1 = nn.Linear(47, 50)\n",
    "        self.lin2 = nn.Linear(50, 50)\n",
    "        self.lin3 = nn.Linear(50, 50)\n",
    "        self.lin4 = nn.Linear(50, nact)\n",
    "\n",
    "\n",
    "    def forward(self, xb):\n",
    "        xb = F.leaky_relu(self.lin1(xb))\n",
    "        xb = F.leaky_relu(self.lin2(xb))\n",
    "        xb = F.leaky_relu(self.lin3(xb))\n",
    "        xb = F.softmax(self.lin4(xb), dim=1)\n",
    "        return xb"
   ]
  },
  {
   "cell_type": "code",
   "execution_count": 89,
   "metadata": {},
   "outputs": [],
   "source": [
    "def get_model3():\n",
    "    model = Mnist_Logistic3()\n",
    "    return model, optim.SGD(model.parameters(), lr=0.001)"
   ]
  },
  {
   "cell_type": "code",
   "execution_count": null,
   "metadata": {},
   "outputs": [],
   "source": [
    "model, opt = get_model3()\n",
    "test_loss = []\n",
    "test_acc = []\n",
    "train_acc = []\n",
    "logging.info('Starting training - model 3')\n",
    "\n",
    "for epoch in range(1000):\n",
    "    logging.info('Epoch: ' + str(epoch))\n",
    "    model.train()\n",
    "    for xb, yb in train_dl:\n",
    "        pred = model(xb.float())\n",
    "        loss = loss_func(pred, yb.long())\n",
    "\n",
    "        loss.backward()\n",
    "        opt.step()\n",
    "        opt.zero_grad()\n",
    "    \n",
    "    model.eval()\n",
    "    with torch.no_grad():\n",
    "        valid_loss = sum(loss_func(model(xb.float()), yb.long()) for xb, yb in test_dl)\n",
    "        test_loss.append(valid_loss)\n",
    "        if epoch % 50 == 0:\n",
    "            test_acc.append(accuracy(test_dl))\n",
    "            train_acc.append(accuracy(train_dl))\n",
    "\n",
    "logging.info('Training finished')\n",
    "print(loss_func(model(xb.float()), yb.long()))"
   ]
  },
  {
   "cell_type": "code",
   "execution_count": 94,
   "metadata": {},
   "outputs": [
    {
     "data": {
      "image/png": "[encoded data removed]",
      "text/plain": [
       "<Figure size 432x288 with 1 Axes>"
      ]
     },
     "metadata": {
      "needs_background": "light"
     },
     "output_type": "display_data"
    }
   ],
   "source": [
    "import matplotlib.pyplot as plt\n",
    "\n",
    "plt.plot(test_loss)\n",
    "plt.xlabel('Epoch')\n",
    "plt.ylabel('Loss')\n",
    "plt.title('Test loss')\n",
    "plt.show()"
   ]
  },
  {
   "cell_type": "code",
   "execution_count": 95,
   "metadata": {},
   "outputs": [
    {
     "data": {
      "image/png": "[encoded data removed]",
      "text/plain": [
       "<Figure size 432x288 with 1 Axes>"
      ]
     },
     "metadata": {
      "needs_background": "light"
     },
     "output_type": "display_data"
    }
   ],
   "source": [
    "plt.plot(range(0,1000,50),test_acc)\n",
    "plt.xlabel('Epoch')\n",
    "plt.ylabel('Accuracy')\n",
    "plt.title('Test accuracy')\n",
    "plt.show()"
   ]
  },
  {
   "cell_type": "code",
   "execution_count": 96,
   "metadata": {},
   "outputs": [
    {
     "data": {
      "image/png": "[encoded data removed]",
      "text/plain": [
       "<Figure size 432x288 with 1 Axes>"
      ]
     },
     "metadata": {
      "needs_background": "light"
     },
     "output_type": "display_data"
    }
   ],
   "source": [
    "plt.plot(range(0,1000,50), train_acc)\n",
    "plt.xlabel('Epoch')\n",
    "plt.ylabel('Accuracy')\n",
    "plt.title('Training accuracy')\n",
    "plt.show()"
   ]
  }
 ],
 "metadata": {
  "kernelspec": {
   "display_name": "Python 3",
   "language": "python",
   "name": "python3"
  },
  "language_info": {
   "codemirror_mode": {
    "name": "ipython",
    "version": 3
   },
   "file_extension": ".py",
   "mimetype": "text/x-python",
   "name": "python",
   "nbconvert_exporter": "python",
   "pygments_lexer": "ipython3",
   "version": "3.8.9"
  }
 },
 "nbformat": 4,
 "nbformat_minor": 2
}
